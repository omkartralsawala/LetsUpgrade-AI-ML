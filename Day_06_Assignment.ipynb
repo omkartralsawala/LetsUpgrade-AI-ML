{
  "nbformat": 4,
  "nbformat_minor": 0,
  "metadata": {
    "colab": {
      "name": "Assignment_6.ipynb",
      "provenance": []
    },
    "kernelspec": {
      "name": "python3",
      "display_name": "Python 3"
    }
  },
  "cells": [
    {
      "cell_type": "markdown",
      "metadata": {
        "id": "RZNZtUNsIwDY",
        "colab_type": "text"
      },
      "source": [
        "# Answer 1\n",
        "seperate company name from an email address"
      ]
    },
    {
      "cell_type": "code",
      "metadata": {
        "id": "q1EuYILeImU-",
        "colab_type": "code",
        "colab": {}
      },
      "source": [
        "email_address = input(\"Enter your email address\")\n",
        "print(email_address.split(\"@\")[1].split(\".\")[0])"
      ],
      "execution_count": null,
      "outputs": []
    },
    {
      "cell_type": "markdown",
      "metadata": {
        "id": "6ACyA52pJutu",
        "colab_type": "text"
      },
      "source": [
        "# Answer 2\n",
        "accept comma seperated values and sort them alphabetically\n"
      ]
    },
    {
      "cell_type": "code",
      "metadata": {
        "id": "57h3oZU2J9q3",
        "colab_type": "code",
        "colab": {
          "base_uri": "https://localhost:8080/",
          "height": 51
        },
        "outputId": "986c7c26-6c87-49eb-e69b-1aff47aa36a4"
      },
      "source": [
        "values_string = input(\"Enter 5 comma seperated values\")\n",
        "values_list = values_string.split(\",\")\n",
        "values_list.sort()\n",
        "print(values_list)"
      ],
      "execution_count": 7,
      "outputs": [
        {
          "output_type": "stream",
          "text": [
            "Enter 5 comma seperated valueshey, tom, how, are , you\n",
            "[' are ', ' how', ' tom', ' you', 'hey']\n"
          ],
          "name": "stdout"
        }
      ]
    },
    {
      "cell_type": "markdown",
      "metadata": {
        "id": "iuIeGRM6NTwV",
        "colab_type": "text"
      },
      "source": [
        "# Answer 4\n",
        "find the missing number from the sequence \n"
      ]
    },
    {
      "cell_type": "code",
      "metadata": {
        "id": "hMrgwfeaNZlv",
        "colab_type": "code",
        "colab": {
          "base_uri": "https://localhost:8080/",
          "height": 51
        },
        "outputId": "17f4942e-0072-4dc1-aead-d78ea9d725d8"
      },
      "source": [
        "mystring = input(\"Enter sequence seperated by space\")\n",
        "mylist_string = mystring.split(\" \")\n",
        "\n",
        "for i in range(0, len(mylist_string)):\n",
        "  mylist_string[i] = int(mylist_string[i])\n",
        "\n",
        "n = len(mylist_string)\n",
        "total = (n+1) * (n+2) /2\n",
        "sum = sum(mylist_string)\n",
        "\n",
        "print(total - sum)\n",
        "\n"
      ],
      "execution_count": 12,
      "outputs": [
        {
          "output_type": "stream",
          "text": [
            "Enter sequence seperated by space1 2 3 4 6 7 8 9 10\n",
            "5.0\n"
          ],
          "name": "stdout"
        }
      ]
    },
    {
      "cell_type": "markdown",
      "metadata": {
        "id": "vShqiyJHK9D3",
        "colab_type": "text"
      },
      "source": [
        "# Answer 5\n",
        "\n",
        "remove duplicates from a list\n"
      ]
    },
    {
      "cell_type": "code",
      "metadata": {
        "id": "PTFTeQC8MEl1",
        "colab_type": "code",
        "colab": {
          "base_uri": "https://localhost:8080/",
          "height": 51
        },
        "outputId": "bb181086-115c-417d-b379-6b6ed8c2c14e"
      },
      "source": [
        "mystring = input(\"Enter elements seperated by space\")\n",
        "mylist = mystring.split(\" \")\n",
        "mylist = list(dict.fromkeys(mylist))\n",
        "print(mylist)"
      ],
      "execution_count": 9,
      "outputs": [
        {
          "output_type": "stream",
          "text": [
            "Enter elements seperated by space10 12 13 12 11 15\n",
            "['10', '12', '13', '11', '15']\n"
          ],
          "name": "stdout"
        }
      ]
    },
    {
      "cell_type": "markdown",
      "metadata": {
        "id": "r0fMVxitMtMf",
        "colab_type": "text"
      },
      "source": [
        ""
      ]
    }
  ]
}