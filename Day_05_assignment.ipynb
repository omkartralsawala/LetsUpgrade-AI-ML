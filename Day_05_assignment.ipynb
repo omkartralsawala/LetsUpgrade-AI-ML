{
  "nbformat": 4,
  "nbformat_minor": 0,
  "metadata": {
    "colab": {
      "name": "Day_05_assignment.ipynb",
      "provenance": []
    },
    "kernelspec": {
      "name": "python3",
      "display_name": "Python 3"
    }
  },
  "cells": [
    {
      "cell_type": "markdown",
      "metadata": {
        "id": "LO0pW80hoU5J",
        "colab_type": "text"
      },
      "source": [
        "# Answer 1\n",
        "#### WAP find first 20 prime numbers"
      ]
    },
    {
      "cell_type": "code",
      "metadata": {
        "id": "YaeCIKGTpeK2",
        "colab_type": "code",
        "colab": {
          "base_uri": "https://localhost:8080/",
          "height": 54
        },
        "outputId": "7fdd0ef1-65d3-4fa7-9c01-028dde493e37"
      },
      "source": [
        "prime_numbers = []\n",
        "def prime_check():\n",
        "  i, j, flag = 0,0,0\n",
        "\n",
        "  for i in range(1, 101, 1):\n",
        "    if (i == 0 or i == 1):\n",
        "      continue\n",
        "    flag = 1\n",
        "    if len(prime_numbers) <= 19:\n",
        "      for j in range(2, ((i //2) + 1), 1):\n",
        "        if (i % j == 0):\n",
        "          flag = 0\n",
        "          break\n",
        "    \n",
        "      if (flag == 1):\n",
        "        prime_numbers.append(i)\n",
        "        # print(i, end = \" \")\n",
        "    else:\n",
        "      break\n",
        "\n",
        "prime_check()\n",
        "print(\"prime numbers are {0}\".format(prime_numbers))"
      ],
      "execution_count": 27,
      "outputs": [
        {
          "output_type": "stream",
          "text": [
            "prime numbers are [2, 3, 5, 7, 11, 13, 17, 19, 23, 29, 31, 37, 41, 43, 47, 53, 59, 61, 67, 71]\n"
          ],
          "name": "stdout"
        }
      ]
    },
    {
      "cell_type": "markdown",
      "metadata": {
        "id": "VYuLn6Dh0Sff",
        "colab_type": "text"
      },
      "source": [
        "# Answer 2\n",
        "\n",
        "#### implemennt 15 string functions"
      ]
    },
    {
      "cell_type": "code",
      "metadata": {
        "id": "zl_tX5aK0eho",
        "colab_type": "code",
        "colab": {
          "base_uri": "https://localhost:8080/",
          "height": 272
        },
        "outputId": "c12f1975-fd23-4844-ef43-b29bff33cab1"
      },
      "source": [
        "s = \"my name is omkar\"\n",
        "\n",
        "print(\"01. Capitalize Function \", s.capitalize())\n",
        "print(\"02. Center Function \",s.center(30, \"O\"))\n",
        "print(\"03. Count of alphabet 'a' is \",s.count(\"a\"))\n",
        "print(\"04. Format Function Hello my name is {0}\".format(\"Omkar\"))\n",
        "print(\"05. Upper Function \", s.upper())\n",
        "print(\"06. Lower Fucntion \", s.lower())\n",
        "print(\"07. isAlpha Funnction \", s.isalpha())\n",
        "print(\"08. isDigit Function \", s.isdigit())\n",
        "print(\"09. Split Fucntion \", s.split(\" \"))\n",
        "print(\"10. Reverse string \", s[::-1])\n",
        "print(\"11. Elements from 1 to 10 index\", s[1: 10])\n",
        "print(\"12. Swapcase Function \", s.swapcase())\n",
        "print(\"13. Ends With Function \", s.endswith(\"r\"))\n",
        "print(\"14. Find Function \", s.find(\"Omkar\"))\n",
        "print(\"15. Replace Fucntion \", s.replace(\"omkar\" , \"John\"))"
      ],
      "execution_count": 62,
      "outputs": [
        {
          "output_type": "stream",
          "text": [
            "01. Capitalize Function  My name is omkar\n",
            "02. Center Function  OOOOOOOmy name is omkarOOOOOOO\n",
            "03. Count of alphabet 'a' is  2\n",
            "04. Format Function Hello my name is Omkar\n",
            "05. Upper Function  MY NAME IS OMKAR\n",
            "06. Lower Fucntion  my name is omkar\n",
            "07. isAlpha Funnction  False\n",
            "08. isDigit Function  False\n",
            "09. Split Fucntion  ['my', 'name', 'is', 'omkar']\n",
            "10. Reverse string  rakmo si eman ym\n",
            "11. Elements from 1 to 10 index y name is\n",
            "12. Swapcase Function  MY NAME IS OMKAR\n",
            "13. Ends With Function  True\n",
            "14. Find Function  -1\n",
            "15. Replace Fucntion  my name is John\n"
          ],
          "name": "stdout"
        }
      ]
    },
    {
      "cell_type": "markdown",
      "metadata": {
        "id": "y7NbEzw26WqW",
        "colab_type": "text"
      },
      "source": [
        "# Answer 3\n",
        "#### check Palindrome "
      ]
    },
    {
      "cell_type": "code",
      "metadata": {
        "id": "NtgRosYM6eDs",
        "colab_type": "code",
        "colab": {
          "base_uri": "https://localhost:8080/",
          "height": 68
        },
        "outputId": "7729dd31-5319-47c0-ab8b-1af77276bd4d"
      },
      "source": [
        "s = input(\"Enter a string \")\n",
        "reverse_string = s[::-1]\n",
        "\n",
        "if s == reverse_string:\n",
        "  print(\"Palindrome String\")\n",
        "else:\n",
        "  print(\"Not a palindrome \")\n"
      ],
      "execution_count": 74,
      "outputs": [
        {
          "output_type": "stream",
          "text": [
            "Enter a string abcbb\n",
            "Not a palindrome \n",
            "['a', 'b', 'b', 'b', 'c']\n"
          ],
          "name": "stdout"
        }
      ]
    },
    {
      "cell_type": "markdown",
      "metadata": {
        "id": "IXy0c2bo9Vkg",
        "colab_type": "text"
      },
      "source": [
        "#### check anagram"
      ]
    },
    {
      "cell_type": "code",
      "metadata": {
        "id": "wBmrDmD-9fwN",
        "colab_type": "code",
        "colab": {
          "base_uri": "https://localhost:8080/",
          "height": 68
        },
        "outputId": "f7a7c859-d5a5-4e19-851b-ce7564fb3b7e"
      },
      "source": [
        "s = input(\"Enter a String \")\n",
        "s2 = input(\"Enter another String \")\n",
        "if sorted(s) == sorted(s2):\n",
        "  print(\"They are an anagram\")\n",
        "else:\n",
        "  print(\"Not an anagram!!\")\n"
      ],
      "execution_count": 75,
      "outputs": [
        {
          "output_type": "stream",
          "text": [
            "Enter a String listen\n",
            "Enter another String silent\n",
            "They are an anagram\n"
          ],
          "name": "stdout"
        }
      ]
    },
    {
      "cell_type": "markdown",
      "metadata": {
        "id": "BseTHLVzBR_i",
        "colab_type": "text"
      },
      "source": [
        "# Answer 4\n",
        "\n",
        "#### remove special characters from a string "
      ]
    },
    {
      "cell_type": "code",
      "metadata": {
        "id": "HdqHVGRaBbiA",
        "colab_type": "code",
        "colab": {
          "base_uri": "https://localhost:8080/",
          "height": 34
        },
        "outputId": "f1406ce5-f5df-4679-fb86-94d356cac32e"
      },
      "source": [
        "s = \"Dr. Darshan Ingle @AI-ML Trainer\"\n",
        "new_s = \"\"\n",
        "for char in s:\n",
        "  if char.isalnum() == True:\n",
        "    new_s = new_s + char\n",
        "\n",
        "print(new_s.lower())\n",
        "  "
      ],
      "execution_count": 79,
      "outputs": [
        {
          "output_type": "stream",
          "text": [
            "drdarshaningleaimltrainer\n"
          ],
          "name": "stdout"
        }
      ]
    }
  ]
}