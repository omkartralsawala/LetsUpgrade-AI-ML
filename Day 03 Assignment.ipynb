{
  "nbformat": 4,
  "nbformat_minor": 0,
  "metadata": {
    "colab": {
      "name": "Copy of Day 03 Assignment",
      "provenance": []
    },
    "kernelspec": {
      "name": "python3",
      "display_name": "Python 3"
    }
  },
  "cells": [
    {
      "cell_type": "markdown",
      "metadata": {
        "id": "YB51rhpMct36",
        "colab_type": "text"
      },
      "source": [
        "Amswer 1\n",
        "WAP to substract 2 complex number\n",
        "*italicised text*"
      ]
    },
    {
      "cell_type": "code",
      "metadata": {
        "id": "oI2Xo2_bhgt2",
        "colab_type": "code",
        "colab": {
          "base_uri": "https://localhost:8080/",
          "height": 34
        },
        "outputId": "aa558b45-bcb3-4e58-e1e8-6ece5e0fb7f0"
      },
      "source": [
        "a = 2 + 3j\n",
        "b = 3 + 4j\n",
        "\n",
        "c = b-a\n",
        "\n",
        "print(\"The difference between {0} and {1} is {2}\".format(a , b, c))"
      ],
      "execution_count": null,
      "outputs": [
        {
          "output_type": "stream",
          "text": [
            "The difference between (2+3j) and (3+4j) is (1+1j)\n"
          ],
          "name": "stdout"
        }
      ]
    },
    {
      "cell_type": "markdown",
      "metadata": {
        "id": "UU9pKXhFdNf4",
        "colab_type": "text"
      },
      "source": [
        "Answer 2 WAP to find the fourth root of the number\n"
      ]
    },
    {
      "cell_type": "code",
      "metadata": {
        "id": "HLc2l2P2dUqY",
        "colab_type": "code",
        "colab": {
          "base_uri": "https://localhost:8080/",
          "height": 51
        },
        "outputId": "d12b0531-f819-4dfb-c653-5fb8c1090796"
      },
      "source": [
        "import math\n",
        "\n",
        "a = 100\n",
        "b = math.sqrt(a)\n",
        "print(\"Second root it \", b)\n",
        "\n",
        "c = math.sqrt(b)\n",
        "print(\"Fourth root is \", c)"
      ],
      "execution_count": null,
      "outputs": [
        {
          "output_type": "stream",
          "text": [
            "Second root it  10.0\n",
            "Fourth root is  3.1622776601683795\n"
          ],
          "name": "stdout"
        }
      ]
    },
    {
      "cell_type": "markdown",
      "metadata": {
        "id": "0qFW5zJnd0Qm",
        "colab_type": "text"
      },
      "source": [
        "Answer 3 WAP to swap two number with temp variable"
      ]
    },
    {
      "cell_type": "code",
      "metadata": {
        "id": "PkIAF-M9d52g",
        "colab_type": "code",
        "colab": {
          "base_uri": "https://localhost:8080/",
          "height": 51
        },
        "outputId": "339d5505-5590-4e5a-86f7-892cd55c13eb"
      },
      "source": [
        "a = 20\n",
        "b = 40\n",
        "print(\"Original values of a and b are \", a, b)\n",
        "\n",
        "c = a\n",
        "a = b\n",
        "b = c\n",
        "\n",
        "print(\"New values of a and b are \", a, b)"
      ],
      "execution_count": null,
      "outputs": [
        {
          "output_type": "stream",
          "text": [
            "Original Values of a and b are  20 40\n",
            "New values of a and b are  40 20\n"
          ],
          "name": "stdout"
        }
      ]
    },
    {
      "cell_type": "markdown",
      "metadata": {
        "id": "kRqm7I5QeIwN",
        "colab_type": "text"
      },
      "source": [
        "Answer 4 WAP to swap two numbers without temporary variable"
      ]
    },
    {
      "cell_type": "code",
      "metadata": {
        "id": "PB1o2_6QenQB",
        "colab_type": "code",
        "colab": {
          "base_uri": "https://localhost:8080/",
          "height": 51
        },
        "outputId": "08c299c3-fdf7-4c21-90df-d86a688499a4"
      },
      "source": [
        "a = 20\n",
        "b = 10\n",
        "print(\"Numbers before swappinng\", a, b)\n",
        "\n",
        "a, b = b, a\n",
        "print(\"Numbers after swapping\", a, b)"
      ],
      "execution_count": null,
      "outputs": [
        {
          "output_type": "stream",
          "text": [
            "Numbers before swappinng 20 10\n",
            "Numbers after swapping 10 20\n"
          ],
          "name": "stdout"
        }
      ]
    },
    {
      "cell_type": "markdown",
      "metadata": {
        "id": "MzD1gd7ffmII",
        "colab_type": "text"
      },
      "source": [
        "Answer 5 WAP convert fahrenheit to kelvin and celcius"
      ]
    },
    {
      "cell_type": "code",
      "metadata": {
        "id": "lZJrtpZkfs5X",
        "colab_type": "code",
        "colab": {
          "base_uri": "https://localhost:8080/",
          "height": 51
        },
        "outputId": "616dffdd-679d-4720-85da-1af53c8e0740"
      },
      "source": [
        "tf = 32\n",
        "\n",
        "tc = (5*(tf - 32))/ 9\n",
        "print(\"Temperaturre in celcius is \", tc)\n",
        "\n",
        "tk = tc + 273.15\n",
        "print(\"Temperaturre in keelivin is \", tk)\n"
      ],
      "execution_count": null,
      "outputs": [
        {
          "output_type": "stream",
          "text": [
            "Temperaturre inn celcius is  0.0\n",
            "Temperaturre in keelivin is  273.15\n"
          ],
          "name": "stdout"
        }
      ]
    },
    {
      "cell_type": "markdown",
      "metadata": {
        "id": "GTKDVARWhSE9",
        "colab_type": "text"
      },
      "source": [
        "Answer 6 WAP to demostrrate all available data types in python"
      ]
    },
    {
      "cell_type": "code",
      "metadata": {
        "id": "mnlxWLahhXYS",
        "colab_type": "code",
        "colab": {
          "base_uri": "https://localhost:8080/",
          "height": 102
        },
        "outputId": "bb8d14ff-46df-45c1-f07a-1c0105876a3f"
      },
      "source": [
        "a = 10\n",
        "b = 12.5\n",
        "c = \"Hey my name is omkarr! Pleased to meet you \"\n",
        "d = (10, 12)\n",
        "e = [10, 20, 30]\n",
        "print(\"Variable a is of type\", type(a))\n",
        "print(\"Variable b is of type\", type(b))\n",
        "print(\"Variable c is of type\", type(c))\n",
        "print(\"Variable d is of type\", type(d))\n",
        "print(\"Variable e is of type\", type(e))"
      ],
      "execution_count": null,
      "outputs": [
        {
          "output_type": "stream",
          "text": [
            "Variable a is of type <class 'int'>\n",
            "Variable b is of type <class 'float'>\n",
            "Variable c is of type <class 'str'>\n",
            "Variable d is of type <class 'tuple'>\n",
            "Variable e is of type <class 'list'>\n"
          ],
          "name": "stdout"
        }
      ]
    },
    {
      "cell_type": "markdown",
      "metadata": {
        "id": "ELYm1iFsiGCJ",
        "colab_type": "text"
      },
      "source": [
        "Answer 7 Create a markdown inn jupiter cell will all the steps for uploading assignments to github and assignnmient links "
      ]
    },
    {
      "cell_type": "markdown",
      "metadata": {
        "id": "T1HrAGx5iUNh",
        "colab_type": "text"
      },
      "source": [
        "# Create a github public repo and name it LetsUpgrade AI/ML\n",
        "## Upload the files/solution in the repo in day wise manner.\n",
        "__Copy the url of the Folder of that day and paste in the Assignment Submission Form (Google Form) which will be mentioned in this section after the class.__\n",
        "\n",
        "___Make sure you are filling correct details in the Assignment Submission Form.___\n",
        "\n",
        "___You have to upload the assignment solutions to your Github profile and submit the URL to us.___"
      ]
    }
  ]
}