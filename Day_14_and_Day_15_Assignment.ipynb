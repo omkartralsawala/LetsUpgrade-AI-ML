{
  "nbformat": 4,
  "nbformat_minor": 0,
  "metadata": {
    "kernelspec": {
      "display_name": "Python 3",
      "language": "python",
      "name": "python3"
    },
    "language_info": {
      "codemirror_mode": {
        "name": "ipython",
        "version": 3
      },
      "file_extension": ".py",
      "mimetype": "text/x-python",
      "name": "python",
      "nbconvert_exporter": "python",
      "pygments_lexer": "ipython3",
      "version": "3.7.4"
    },
    "colab": {
      "name": "Day_14 and Day_15 Assignment.ipynb",
      "provenance": []
    }
  },
  "cells": [
    {
      "cell_type": "markdown",
      "metadata": {
        "id": "ihwoAhRxh0GW",
        "colab_type": "text"
      },
      "source": [
        "# 1. Create a 3x3x3 array with random values "
      ]
    },
    {
      "cell_type": "code",
      "metadata": {
        "id": "DKOCsYuWh0GX",
        "colab_type": "code",
        "colab": {
          "base_uri": "https://localhost:8080/",
          "height": 204
        },
        "outputId": "82c7f055-c869-4930-86bb-a4960f44bf51"
      },
      "source": [
        "import numpy as np\n",
        "\n",
        "arr = np.empty((3,3,3))\n",
        "print(arr)"
      ],
      "execution_count": null,
      "outputs": [
        {
          "output_type": "stream",
          "text": [
            "[[[2.31945086e-316 0.00000000e+000 0.00000000e+000]\n",
            "  [0.00000000e+000 0.00000000e+000 0.00000000e+000]\n",
            "  [0.00000000e+000 0.00000000e+000 0.00000000e+000]]\n",
            "\n",
            " [[0.00000000e+000 0.00000000e+000 0.00000000e+000]\n",
            "  [0.00000000e+000 0.00000000e+000 0.00000000e+000]\n",
            "  [0.00000000e+000 0.00000000e+000 0.00000000e+000]]\n",
            "\n",
            " [[0.00000000e+000 0.00000000e+000 0.00000000e+000]\n",
            "  [0.00000000e+000 0.00000000e+000 0.00000000e+000]\n",
            "  [0.00000000e+000 0.00000000e+000 0.00000000e+000]]]\n"
          ],
          "name": "stdout"
        }
      ]
    },
    {
      "cell_type": "markdown",
      "metadata": {
        "id": "bI6HVYLvh0Gb",
        "colab_type": "text"
      },
      "source": [
        "# 2.Create a 5x5 matrix with values 1,2,3,4 just below the diagonal"
      ]
    },
    {
      "cell_type": "code",
      "metadata": {
        "id": "REdqGBhRh0Gc",
        "colab_type": "code",
        "colab": {
          "base_uri": "https://localhost:8080/",
          "height": 102
        },
        "outputId": "bfca4f27-edbc-49d5-b206-edb21e2c1bf8"
      },
      "source": [
        "z = np.diag(1+np.arange(4), k =-1)\n",
        "print(z)"
      ],
      "execution_count": null,
      "outputs": [
        {
          "output_type": "stream",
          "text": [
            "[[0 0 0 0 0]\n",
            " [1 0 0 0 0]\n",
            " [0 2 0 0 0]\n",
            " [0 0 3 0 0]\n",
            " [0 0 0 4 0]]\n"
          ],
          "name": "stdout"
        }
      ]
    },
    {
      "cell_type": "markdown",
      "metadata": {
        "id": "DDlvx_cjh0Ge",
        "colab_type": "text"
      },
      "source": [
        "# 3.Create a 8x8 matrix and fill it with a checkerboard pattern"
      ]
    },
    {
      "cell_type": "code",
      "metadata": {
        "id": "A3ojvtuFh0Ge",
        "colab_type": "code",
        "colab": {
          "base_uri": "https://localhost:8080/",
          "height": 153
        },
        "outputId": "cf80efd7-ad27-447c-d4f5-2eec88e658c1"
      },
      "source": [
        "array = np.array([[0,1], [1,0]])\n",
        "z1 = np.tile(array, (4,4))\n",
        "print(z1)"
      ],
      "execution_count": null,
      "outputs": [
        {
          "output_type": "stream",
          "text": [
            "[[0 1 0 1 0 1 0 1]\n",
            " [1 0 1 0 1 0 1 0]\n",
            " [0 1 0 1 0 1 0 1]\n",
            " [1 0 1 0 1 0 1 0]\n",
            " [0 1 0 1 0 1 0 1]\n",
            " [1 0 1 0 1 0 1 0]\n",
            " [0 1 0 1 0 1 0 1]\n",
            " [1 0 1 0 1 0 1 0]]\n"
          ],
          "name": "stdout"
        }
      ]
    },
    {
      "cell_type": "markdown",
      "metadata": {
        "id": "MZ5Mxggsh0Gh",
        "colab_type": "text"
      },
      "source": [
        "# 4. Normalize a 5x5 random matrix"
      ]
    },
    {
      "cell_type": "code",
      "metadata": {
        "id": "SYQxO-0oh0Gh",
        "colab_type": "code",
        "colab": {
          "base_uri": "https://localhost:8080/",
          "height": 221
        },
        "outputId": "a8b66e12-02a7-4d1e-e2d3-d08e4172d664"
      },
      "source": [
        "z = np.random.random((5,5))\n",
        "Zmax , Zmin = z.max(), z.min()\n",
        "z = (z-Zmin) / (Zmax -Zmin)\n",
        "print(z)"
      ],
      "execution_count": null,
      "outputs": [
        {
          "output_type": "stream",
          "text": [
            "[[0.41362561 0.27500787 0.61009726 0.1618269  0.83768901]\n",
            " [0.94829549 0.18133837 0.69094819 0.34526157 0.14210052]\n",
            " [0.17148466 0.30668915 0.26334953 0.28088822 0.40894815]\n",
            " [0.05522837 0.85975238 0.72716921 0.90797151 0.96287952]\n",
            " [0.68221245 0.34595276 0.86952    0.04989736 0.6844945 ]]\n",
            "0.9628795218968479\n",
            "0.049897360219101405\n",
            "[[0.39839579 0.24656617 0.61359348 0.12259773 0.86287738]\n",
            " [0.98402594 0.14396887 0.70215045 0.32351586 0.10099119]\n",
            " [0.13317599 0.28126704 0.23379665 0.25300698 0.39327252]\n",
            " [0.00583912 0.88704363 0.74182375 0.93985862 1.        ]\n",
            " [0.69258209 0.32427293 0.89774223 0.         0.69508164]]\n"
          ],
          "name": "stdout"
        }
      ]
    },
    {
      "cell_type": "markdown",
      "metadata": {
        "id": "82CkPR0-h0Gk",
        "colab_type": "text"
      },
      "source": [
        "# 5.  How to find common values between two arrays?"
      ]
    },
    {
      "cell_type": "code",
      "metadata": {
        "id": "V6JPgh1oh0Gk",
        "colab_type": "code",
        "colab": {
          "base_uri": "https://localhost:8080/",
          "height": 34
        },
        "outputId": "57de6995-299d-48eb-8b85-a0257a573c39"
      },
      "source": [
        "a = np.array([1,2,3,4,5,6])\n",
        "b = np.array([4,5,6,7,8,9])\n",
        "print(np.intersect1d(a,b))"
      ],
      "execution_count": null,
      "outputs": [
        {
          "output_type": "stream",
          "text": [
            "[4 5 6]\n"
          ],
          "name": "stdout"
        }
      ]
    },
    {
      "cell_type": "markdown",
      "metadata": {
        "id": "ututJY5Jh0Gn",
        "colab_type": "text"
      },
      "source": [
        "# 6.How to get the dates of yesterday, today and tomorrow?"
      ]
    },
    {
      "cell_type": "code",
      "metadata": {
        "id": "jbI7wBlAh0Gn",
        "colab_type": "code",
        "colab": {
          "base_uri": "https://localhost:8080/",
          "height": 68
        },
        "outputId": "d2fe987a-c3d9-424e-8a3a-44c6e3522f7b"
      },
      "source": [
        "date_today = np.datetime64(\"today\", \"D\")\n",
        "date_tomorrow = date_today + np.timedelta64(1, \"D\")\n",
        "date_yesterday = date_today - np.timedelta64(1, \"D\")\n",
        "print(\"Today is {0}\\nTomrrow is {1}\\nYesterday was {2}\".format(date_today , date_yesterday, date_tomorrow))"
      ],
      "execution_count": null,
      "outputs": [
        {
          "output_type": "stream",
          "text": [
            "Today is 2020-07-26\n",
            "Tomrrow is 2020-07-25\n",
            "Yesterday was 2020-07-27\n"
          ],
          "name": "stdout"
        }
      ]
    },
    {
      "cell_type": "markdown",
      "metadata": {
        "id": "05CfEL0_h0Gq",
        "colab_type": "text"
      },
      "source": [
        "# 7. Consider two random array A and B, check if they are equal"
      ]
    },
    {
      "cell_type": "code",
      "metadata": {
        "id": "lUPaXwXDh0Gq",
        "colab_type": "code",
        "colab": {
          "base_uri": "https://localhost:8080/",
          "height": 34
        },
        "outputId": "6d364894-ef83-40ad-c9ab-6d98f366e620"
      },
      "source": [
        "a = np.random.random(5)\n",
        "b = np.random.random(5)\n",
        "equal = np.allclose(a,b)\n",
        "print(equal)"
      ],
      "execution_count": null,
      "outputs": [
        {
          "output_type": "stream",
          "text": [
            "False\n"
          ],
          "name": "stdout"
        }
      ]
    },
    {
      "cell_type": "markdown",
      "metadata": {
        "id": "AptoH-MFh0Gs",
        "colab_type": "text"
      },
      "source": [
        "# 8.Create random vector of size 10 and replace the maximum value by 0 "
      ]
    },
    {
      "cell_type": "code",
      "metadata": {
        "id": "c5cYrhETh0Gt",
        "colab_type": "code",
        "colab": {
          "base_uri": "https://localhost:8080/",
          "height": 51
        },
        "outputId": "9f88e222-d88f-4c77-8a00-1dba733d6fe0"
      },
      "source": [
        "z = np.random.random((10))\n",
        "z[z.argmax()] = 0\n",
        "print(z)"
      ],
      "execution_count": null,
      "outputs": [
        {
          "output_type": "stream",
          "text": [
            "[0.5442652  0.09208017 0.57421444 0.         0.39692835 0.5631091\n",
            " 0.65440954 0.18764549 0.52374301 0.00810827]\n"
          ],
          "name": "stdout"
        }
      ]
    },
    {
      "cell_type": "markdown",
      "metadata": {
        "id": "7-kzr3Wjh0Gv",
        "colab_type": "text"
      },
      "source": [
        "# 9. How to print all the values of an array?"
      ]
    },
    {
      "cell_type": "code",
      "metadata": {
        "id": "7hhxRBKvh0Gv",
        "colab_type": "code",
        "colab": {
          "base_uri": "https://localhost:8080/",
          "height": 442
        },
        "outputId": "6057a8f7-3195-46d8-cf9b-6683f2249859"
      },
      "source": [
        "a = np.random.random((5,5))\n",
        "for i in a:\n",
        "  for index in i:\n",
        "    print(index)"
      ],
      "execution_count": null,
      "outputs": [
        {
          "output_type": "stream",
          "text": [
            "0.4292969784742606\n",
            "0.8192306404594316\n",
            "0.5836276595077438\n",
            "0.214424351802175\n",
            "0.18218179334794005\n",
            "0.007694757285239384\n",
            "0.37538603759421096\n",
            "0.7951463777073955\n",
            "0.4018345869825478\n",
            "0.045206572461478745\n",
            "0.6239105835544895\n",
            "0.23399299997111012\n",
            "0.9747987608323535\n",
            "0.16099074609287467\n",
            "0.44826862588676797\n",
            "0.6105104049362694\n",
            "0.7920935732372166\n",
            "0.505915297302548\n",
            "0.13840002815156627\n",
            "0.27040746001845584\n",
            "0.42708803640615445\n",
            "0.06300297247561215\n",
            "0.11278590581018466\n",
            "0.010042195839661483\n",
            "0.3517905611343787\n"
          ],
          "name": "stdout"
        }
      ]
    },
    {
      "cell_type": "markdown",
      "metadata": {
        "id": "MTWPUxvHh0Gy",
        "colab_type": "text"
      },
      "source": [
        "# 10.Subtract the mean of each row of a matrix"
      ]
    },
    {
      "cell_type": "code",
      "metadata": {
        "id": "f8qys5Dgh0Gy",
        "colab_type": "code",
        "colab": {
          "base_uri": "https://localhost:8080/",
          "height": 204
        },
        "outputId": "5c3d2a7e-70bf-4459-8aab-adc2917f380c"
      },
      "source": [
        "import numpy as np\n",
        "means = []\n",
        "a = np.random.random((6,6))\n",
        "print(a)\n",
        "for row in a:\n",
        "  sum = 0\n",
        "  total_elements = len(row)\n",
        "  for i in row:\n",
        "    sum = sum + i\n",
        "  mean = sum / total_elements\n",
        "  means.append(mean)\n",
        "\n",
        "for i in range(0,len(means)):\n",
        "  try:\n",
        "    diff = means[i] - means[i + 1]\n",
        "    print(\"difference betweeen {0}th term {1} and {2}th term  {3} is {4}\".format(i, means[i], i+1, means[i+1], diff)) \n",
        "  except IndexError:\n",
        "    pass"
      ],
      "execution_count": null,
      "outputs": [
        {
          "output_type": "stream",
          "text": [
            "[[0.76015839 0.79695135 0.52668657 0.20286818 0.47851564 0.52530732]\n",
            " [0.59818809 0.46470676 0.66180033 0.7319475  0.45074314 0.06656791]\n",
            " [0.67849756 0.78867955 0.70685124 0.30446577 0.95962783 0.22369986]\n",
            " [0.46435781 0.86278034 0.14570248 0.38949413 0.42564855 0.28464741]\n",
            " [0.60720964 0.25822747 0.8278659  0.90967374 0.72418212 0.18245595]\n",
            " [0.12205958 0.29642902 0.58635102 0.66131421 0.4455072  0.91340704]]\n",
            "difference betweeen 0th term 0.5484145721698632 and 1th term  0.4956589548897558 is 0.052755617280107414\n",
            "difference betweeen 1th term 0.4956589548897558 and 2th term  0.61030363464548 is -0.11464467975572418\n",
            "difference betweeen 2th term 0.61030363464548 and 3th term  0.4287717863291512 is 0.1815318483163288\n",
            "difference betweeen 3th term 0.4287717863291512 and 4th term  0.58493580391265 is -0.1561640175834988\n",
            "difference betweeen 4th term 0.58493580391265 and 5th term  0.5041780119052864 is 0.08075779200736355\n"
          ],
          "name": "stdout"
        }
      ]
    },
    {
      "cell_type": "markdown",
      "metadata": {
        "id": "Y09jiGt2h0G2",
        "colab_type": "text"
      },
      "source": [
        "# 11.Consider a given vector, how to add 1 to each element indexed by a second vector (be careful with repeated indices)? "
      ]
    },
    {
      "cell_type": "code",
      "metadata": {
        "id": "MZ92xnSch0G2",
        "colab_type": "code",
        "colab": {}
      },
      "source": [
        ""
      ],
      "execution_count": null,
      "outputs": []
    },
    {
      "cell_type": "code",
      "metadata": {
        "id": "fsqX5gvzh0G4",
        "colab_type": "code",
        "colab": {}
      },
      "source": [
        ""
      ],
      "execution_count": null,
      "outputs": []
    },
    {
      "cell_type": "markdown",
      "metadata": {
        "id": "ZuTp6rWFh0G6",
        "colab_type": "text"
      },
      "source": [
        "# 12.How to get the diagonal of a dot product?"
      ]
    },
    {
      "cell_type": "code",
      "metadata": {
        "id": "rSSMadkqh0G7",
        "colab_type": "code",
        "colab": {
          "base_uri": "https://localhost:8080/",
          "height": 34
        },
        "outputId": "f448d114-2e5f-451a-fba1-aff8ad025fac"
      },
      "source": [
        "a = np.random.random((5,5))\n",
        "b = np.random.random((5,5))\n",
        "z = a.dot(b)\n",
        "print(np.diag(z))"
      ],
      "execution_count": null,
      "outputs": [
        {
          "output_type": "stream",
          "text": [
            "[1.39326891 1.39773482 0.84334221 0.72834621 0.9636068 ]\n"
          ],
          "name": "stdout"
        }
      ]
    },
    {
      "cell_type": "markdown",
      "metadata": {
        "id": "I09ub8Thh0G-",
        "colab_type": "text"
      },
      "source": [
        "# 13.How to find the most frequent value in an array?"
      ]
    },
    {
      "cell_type": "code",
      "metadata": {
        "id": "XTyYweAhh0G_",
        "colab_type": "code",
        "colab": {
          "base_uri": "https://localhost:8080/",
          "height": 34
        },
        "outputId": "2ffcc23f-00cc-44ac-bc44-ae36ef7b4ce8"
      },
      "source": [
        "x = np.random.randint(0,10,30)\n",
        "print(np.bincount(x).argmax())"
      ],
      "execution_count": null,
      "outputs": [
        {
          "output_type": "stream",
          "text": [
            "2\n"
          ],
          "name": "stdout"
        }
      ]
    },
    {
      "cell_type": "markdown",
      "metadata": {
        "id": "mong5zXWh0HB",
        "colab_type": "text"
      },
      "source": [
        "# 14.How to get the n largest values of an array"
      ]
    },
    {
      "cell_type": "code",
      "metadata": {
        "id": "WOPTDnswh0HB",
        "colab_type": "code",
        "colab": {
          "base_uri": "https://localhost:8080/",
          "height": 51
        },
        "outputId": "824e828e-d286-4d01-a815-fdd3293454b8"
      },
      "source": [
        "x = np.random.random(10)\n",
        "y = np.argsort(x)\n",
        "print(x,y)"
      ],
      "execution_count": null,
      "outputs": [
        {
          "output_type": "stream",
          "text": [
            "[0.22184744 0.22396038 0.53036401 0.9427242  0.97119965 0.69190802\n",
            " 0.597304   0.41834854 0.6143796  0.17830154] [9 0 1 7 2 6 8 5 3 4]\n"
          ],
          "name": "stdout"
        }
      ]
    },
    {
      "cell_type": "markdown",
      "metadata": {
        "id": "dznvzAZxh0HE",
        "colab_type": "text"
      },
      "source": [
        "# 15.How to create a record array from a regular array?"
      ]
    },
    {
      "cell_type": "code",
      "metadata": {
        "id": "Fy9cFDiDh0HE",
        "colab_type": "code",
        "colab": {
          "base_uri": "https://localhost:8080/",
          "height": 119
        },
        "outputId": "9a00321a-aec5-4450-ff52-471e7144a45d"
      },
      "source": [
        "a = np.array([[1,2,3,4], [5,6,7,8], [9,10,11,12]])\n",
        "b = a[0:2, 0:2]\n",
        "print(a)\n",
        "print(\"-----------\")\n",
        "print(b)"
      ],
      "execution_count": null,
      "outputs": [
        {
          "output_type": "stream",
          "text": [
            "[[ 1  2  3  4]\n",
            " [ 5  6  7  8]\n",
            " [ 9 10 11 12]]\n",
            "-----------\n",
            "[[1 2]\n",
            " [5 6]]\n"
          ],
          "name": "stdout"
        }
      ]
    },
    {
      "cell_type": "code",
      "metadata": {
        "id": "_HCkuUWeh0HG",
        "colab_type": "code",
        "colab": {}
      },
      "source": [
        ""
      ],
      "execution_count": null,
      "outputs": []
    },
    {
      "cell_type": "code",
      "metadata": {
        "id": "nyYI44fkYaIh",
        "colab_type": "code",
        "colab": {}
      },
      "source": [
        ""
      ],
      "execution_count": null,
      "outputs": []
    }
  ]
}