{
  "nbformat": 4,
  "nbformat_minor": 0,
  "metadata": {
    "colab": {
      "name": "Day_04_assignment.ipynb",
      "provenance": []
    },
    "kernelspec": {
      "name": "python3",
      "display_name": "Python 3"
    }
  },
  "cells": [
    {
      "cell_type": "markdown",
      "metadata": {
        "id": "bGG0vs85clw_",
        "colab_type": "text"
      },
      "source": [
        "#Answer 1 \n",
        "### Operations that can be performed\n",
        ">> addition\n",
        ">> subsctration\n",
        ">> multiplication\n",
        ">> division\n",
        ">> modulus\n",
        "### Operations that can't be performmed\n",
        ">> floor division "
      ]
    },
    {
      "cell_type": "code",
      "metadata": {
        "id": "VwXf2E5Ve-c2",
        "colab_type": "code",
        "colab": {
          "base_uri": "https://localhost:8080/",
          "height": 139
        },
        "outputId": "d1b2957f-15de-4905-d4f9-86a8e24e4001"
      },
      "source": [
        "a = 10 + 6j\n",
        "b = 12 + 12j\n",
        "\n",
        "addition = a + b\n",
        "subsctraction = a -b\n",
        "multiplication = a * b\n",
        "division  = a /b\n",
        "mod_a = abs(a)\n",
        "mod_b = abs(b)\n",
        "print(\"Sum of {0} annd {1} is {2} \".format(a, b,addition))\n",
        "print(\"Difference of {0} annd {1} is {2} \".format(a, b, subsctraction))\n",
        "print(\"Product of {0} annd {1} is {2} \".format(a, b, multiplication))\n",
        "print(\"Divident of {0} annd {1} is {2} \".format(a, b, division))\n",
        "print(\"Modulus of {0} is {1}\".format(a, mod_a))\n",
        "print(\"Modulus of {0} is {1}\".format(b, mod_b))"
      ],
      "execution_count": 23,
      "outputs": [
        {
          "output_type": "stream",
          "text": [
            "Sum of (10+6j) annd (12+12j) is (22+18j) \n",
            "Difference of (10+6j) annd (12+12j) is (-2-6j) \n",
            "Product of (10+6j) annd (12+12j) is (48+192j) \n",
            "Divident of (10+6j) annd (12+12j) is (0.6666666666666666-0.16666666666666666j) \n",
            "Modulus of (10+6j) is 11.661903789690601\n",
            "Modulus of (12+12j) is 16.97056274847714\n"
          ],
          "name": "stdout"
        }
      ]
    },
    {
      "cell_type": "markdown",
      "metadata": {
        "id": "Up7NUiccf3Aj",
        "colab_type": "text"
      },
      "source": [
        "# Answer 2\n",
        "### Range Function\n",
        "This function iterates over all the values within the given index while incrementing as given in the fucntion parameters\n",
        "This function takes three parameters \n",
        ">> start_index\n",
        ">> end_value\n",
        ">> increment\n"
      ]
    },
    {
      "cell_type": "code",
      "metadata": {
        "id": "Jri30mP-gVr0",
        "colab_type": "code",
        "colab": {
          "base_uri": "https://localhost:8080/",
          "height": 306
        },
        "outputId": "089db9b5-6ae9-47ae-c23b-acbe2703e044"
      },
      "source": [
        "print(\"Values from 0 to 10 with increments of one\")\n",
        "for i in range(0, 10, 1):\n",
        "  print(i)\n",
        "  \n",
        "print(\"Values from 0 to 10 with increments of two\")\n",
        "for i in range(0, 10, 2):\n",
        "  print(i)"
      ],
      "execution_count": 6,
      "outputs": [
        {
          "output_type": "stream",
          "text": [
            "Values from 0 to 10 with increments of one\n",
            "0\n",
            "1\n",
            "2\n",
            "3\n",
            "4\n",
            "5\n",
            "6\n",
            "7\n",
            "8\n",
            "9\n",
            "Values from 0 to 10 with increments of two\n",
            "0\n",
            "2\n",
            "4\n",
            "6\n",
            "8\n"
          ],
          "name": "stdout"
        }
      ]
    },
    {
      "cell_type": "markdown",
      "metadata": {
        "id": "_mnnSk3xgtd5",
        "colab_type": "text"
      },
      "source": [
        "# Answer 3\n",
        "#####  Consider two numbers. Perform their subtraction and if the result of subtraction is greater than 25, print their multiplication result else print their division result.\n",
        "\n"
      ]
    },
    {
      "cell_type": "code",
      "metadata": {
        "id": "y3L64mG4g8xL",
        "colab_type": "code",
        "colab": {
          "base_uri": "https://localhost:8080/",
          "height": 51
        },
        "outputId": "0a5faccb-3fe0-470a-dc3a-752aa873a649"
      },
      "source": [
        "a = 20\n",
        "b = 80\n",
        "\n",
        "difference = b - a\n",
        "if difference > 25:\n",
        "  print(\"Difference of {0} and {1} is {2}\".format(a, b, difference))\n",
        "  print(\"multiplication of {0} annd {1} is {2}\".format(a, b ,a * b))\n",
        "else:\n",
        "  print(\"Difference of {0} and {1} is {2}\".format(a, b, difference))\n",
        "  print(\"division of {0} annd {1} is {2} \".format(a, b, a/b))"
      ],
      "execution_count": 25,
      "outputs": [
        {
          "output_type": "stream",
          "text": [
            "Difference of 20 and 80 is 60\n",
            "multiplication of 20 annd 80 is 1600\n"
          ],
          "name": "stdout"
        }
      ]
    },
    {
      "cell_type": "markdown",
      "metadata": {
        "id": "GCHuzf6mhhgS",
        "colab_type": "text"
      },
      "source": [
        "# Answer 4\n",
        "\n",
        "##### Consider a list of 10 elements of integer values. If the number in the list is divisible by 2, print the result as \"square of that number minus 2\"."
      ]
    },
    {
      "cell_type": "code",
      "metadata": {
        "id": "PpvbilUDhq5l",
        "colab_type": "code",
        "colab": {
          "base_uri": "https://localhost:8080/",
          "height": 119
        },
        "outputId": "a2119d2e-e038-4de8-a822-b4adf9f6fb6b"
      },
      "source": [
        "value = [1, 20, 50, 99, 10, 7, 6, 5, 4, 24]\n",
        "\n",
        "for i in value:\n",
        "  if i%2 ==0:\n",
        "    print(\"Square of {0} - 2 is {1}\".format(i, i**2-2))"
      ],
      "execution_count": 20,
      "outputs": [
        {
          "output_type": "stream",
          "text": [
            "Square of 20 - 2 is 398\n",
            "Square of 50 - 2 is 2498\n",
            "Square of 10 - 2 is 98\n",
            "Square of 6 - 2 is 34\n",
            "Square of 4 - 2 is 14\n",
            "Square of 24 - 2 is 574\n"
          ],
          "name": "stdout"
        }
      ]
    },
    {
      "cell_type": "markdown",
      "metadata": {
        "id": "5v2FsnFUikyM",
        "colab_type": "text"
      },
      "source": [
        "# Answer 5\n",
        "\n",
        "##### Consider a list of 10 elements. Print all the elements in the list which are greater than 7 when that number is divided 2.\n",
        "\n"
      ]
    },
    {
      "cell_type": "code",
      "metadata": {
        "id": "sV49V0ksiwuT",
        "colab_type": "code",
        "colab": {
          "base_uri": "https://localhost:8080/",
          "height": 153
        },
        "outputId": "9ee03eeb-50e9-47a6-b6d1-8172e0e26667"
      },
      "source": [
        "value = [10, 20, 5, 4, 50, 16, 70]\n",
        "\n",
        "for i in value:\n",
        "  division = i/2\n",
        "  if division > 7:\n",
        "    print(\"division is \", division)\n",
        "    print(\"Value is \", i)"
      ],
      "execution_count": 26,
      "outputs": [
        {
          "output_type": "stream",
          "text": [
            "division is  10.0\n",
            "Value is  20\n",
            "division is  25.0\n",
            "Value is  50\n",
            "division is  8.0\n",
            "Value is  16\n",
            "division is  35.0\n",
            "Value is  70\n"
          ],
          "name": "stdout"
        }
      ]
    }
  ]
}